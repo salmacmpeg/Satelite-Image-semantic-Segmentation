{
  "nbformat": 4,
  "nbformat_minor": 0,
  "metadata": {
    "colab": {
      "name": "Preprocessing of Dstl_Semantic_Segmentation.ipynb",
      "provenance": [],
      "collapsed_sections": [],
      "machine_shape": "hm",
      "authorship_tag": "ABX9TyPFRmMTPYWZdi+81G4lu8dx",
      "include_colab_link": true
    },
    "kernelspec": {
      "name": "python3",
      "display_name": "Python 3"
    },
    "accelerator": "GPU"
  },
  "cells": [
    {
      "cell_type": "markdown",
      "metadata": {
        "id": "view-in-github",
        "colab_type": "text"
      },
      "source": [
        "<a href=\"https://colab.research.google.com/github/salmacmpeg/Satelite-Image-semantic-Segmentation/blob/main/Preprocessing_of_Dstl_Semantic_Segmentation.ipynb\" target=\"_parent\"><img src=\"https://colab.research.google.com/assets/colab-badge.svg\" alt=\"Open In Colab\"/></a>"
      ]
    },
    {
      "cell_type": "code",
      "metadata": {
        "id": "NeVlD_di6mbd"
      },
      "source": [
        "#This is code is for the preprocessing step for the DSTL dataset\n",
        "#this works only on the multispectral RGB bands.\n",
        "#............................................\n",
        "#Authors: \n",
        "# salma abdel Monem Abdel Motaleb and AbdelRahman Sobeih\n",
        "#..............................................\n",
        "#imports\n",
        "from collections import defaultdict\n",
        "import csv\n",
        "import sys\n",
        "import cv2\n",
        "from shapely.geometry import MultiPolygon, Polygon\n",
        "import shapely.wkt\n",
        "import shapely.affinity\n",
        "import numpy as np\n",
        "import tifffile as tiff\n",
        "import matplotlib.pyplot as plt\n",
        "import pandas as pd\n",
        "import image_slicer"
      ],
      "execution_count": null,
      "outputs": []
    },
    {
      "cell_type": "code",
      "metadata": {
        "id": "sPFyJBfOc5kG"
      },
      "source": [
        "#this cell is from https://www.kaggle.com/lopuhin/full-pipeline-demo-poly-pixels-ml-poly\n",
        "def get_scalers(h,y_min):\n",
        "    h_ = h * (h / (h + 1))\n",
        "    return  h_ / y_min"
      ],
      "execution_count": null,
      "outputs": []
    },
    {
      "cell_type": "code",
      "metadata": {
        "id": "KU60ZVUAc6Pl"
      },
      "source": [
        "#this cell is from https://www.kaggle.com/lopuhin/full-pipeline-demo-poly-pixels-ml-poly\n",
        "\n",
        "def mask_for_polygons(polygons,h,w,c):\n",
        "    img_mask = np.zeros((h,w), np.uint8)\n",
        "    if not polygons:\n",
        "        return img_mask\n",
        "    int_coords = lambda x: np.array(x).round().astype(np.int32)\n",
        "    exteriors = [int_coords(poly.exterior.coords) for poly in polygons]\n",
        "    interiors = [int_coords(pi.coords) for poly in polygons\n",
        "                 for pi in poly.interiors]\n",
        "    cv2.fillPoly(img_mask, exteriors, c)\n",
        "    cv2.fillPoly(img_mask, interiors, 0)\n",
        "    return img_mask"
      ],
      "execution_count": null,
      "outputs": []
    },
    {
      "cell_type": "code",
      "metadata": {
        "id": "ChCcSpCTc75l"
      },
      "source": [
        "grid_sizes=pd.read_csv('F:\\\\dstl-satellite\\\\grid_sizes\\\\grid_sizes.csv')\n",
        "grid_sizes.rename( columns={'Unnamed: 0':'ImageId'}, inplace=True )"
      ],
      "execution_count": null,
      "outputs": []
    },
    {
      "cell_type": "code",
      "metadata": {
        "id": "ycRxAgKZc9m5"
      },
      "source": [
        "pdf3=pd.read_csv('F:\\\\dstl-satellite\\\\train_wkt_v4\\\\train_wkt_v4.csv')\n",
        "\n",
        "multipolygons=pdf3[(pdf3['MultipolygonWKT']!='MULTIPOLYGON EMPTY')]\n",
        "multipolygons['train_poly'] = multipolygons.apply(lambda row:  shapely.wkt.loads(str(row['MultipolygonWKT'])) , axis = 1) \n",
        "multipolygons=pd.merge(multipolygons, grid_sizes, on='ImageId')   "
      ],
      "execution_count": null,
      "outputs": []
    },
    {
      "cell_type": "code",
      "metadata": {
        "id": "bz9WcqVYdHMz"
      },
      "source": [
        "images=[]\n",
        "unique_ig=multipolygons['ImageId'].unique()\n",
        "for i in range (len(unique_ig)):\n",
        "    im_rgb = tiff.imread('F:\\\\dstl-satellite\\\\three_band\\\\three_band/{}.tif'.format(unique_ig[i])).transpose([1, 2, 0])\n",
        "    images.append(im_rgb)\n",
        "    shapeH=(im_rgb.shape[:2][0])\n",
        "    shapeW=(im_rgb.shape[:2][1])\n",
        "    multipolygons.loc[(multipolygons['ImageId']==unique_ig[i]),'H_original']=shapeH\n",
        "    multipolygons.loc[(multipolygons['ImageId']==unique_ig[i]),'W_original']=shapeW"
      ],
      "execution_count": null,
      "outputs": []
    },
    {
      "cell_type": "code",
      "metadata": {
        "id": "djrM7C5SdJLv"
      },
      "source": [
        "multipolygons['y_scaler']=get_scalers(multipolygons['H_original'],multipolygons['Ymin'])\n",
        "multipolygons['x_scaler']=get_scalers(multipolygons['W_original'],multipolygons['Xmax'])"
      ],
      "execution_count": null,
      "outputs": []
    },
    {
      "cell_type": "code",
      "metadata": {
        "id": "DbouDoOVdJrA"
      },
      "source": [
        "\n",
        "multipolygons['train_poly_scaled']=\"\"\n",
        "for i in range(multipolygons.shape[0]):\n",
        "    multipolygons['train_poly_scaled'].iloc[i]= shapely.affinity.scale(\n",
        "    multipolygons['train_poly'].iloc[i], xfact=multipolygons['x_scaler'].iloc[i], yfact=multipolygons['y_scaler'].iloc[i], origin=(0, 0, 0))\n",
        "    \n"
      ],
      "execution_count": null,
      "outputs": []
    },
    {
      "cell_type": "code",
      "metadata": {
        "id": "v1P-xpMUdLOz"
      },
      "source": [
        "unique_ig=multipolygons['ImageId'].unique()\n",
        "train_masks=[]\n",
        "for i in range (len(unique_ig)):\n",
        "    img_id=unique_ig[i]\n",
        "    classes=multipolygons[multipolygons['ImageId']==img_id]['ClassType']\n",
        "    mask1=[]\n",
        "    mask2=[]\n",
        "    \n",
        "    for j in classes:\n",
        "        sub=multipolygons[(multipolygons['ImageId']==img_id)& (multipolygons['ClassType']==j)]\n",
        "        #print((sub.iloc[0]))\n",
        "        mask2=mask_for_polygons(sub['train_poly_scaled'].iloc[0],int(sub['H_original'].iloc[0]),int(sub['W_original'].iloc[0]),int(j) )\n",
        "        if len(mask1)<1:\n",
        "            mask1=mask2\n",
        "        else:\n",
        "            mask1=np.maximum(mask1,mask2)\n",
        "    train_masks.append(mask1)"
      ],
      "execution_count": null,
      "outputs": []
    },
    {
      "cell_type": "code",
      "metadata": {
        "id": "xxd3bqpCdNWu"
      },
      "source": [
        "#free some memory\n",
        "del multipolygons['MultipolygonWKT']\n",
        "del multipolygons['train_poly']\n",
        "del multipolygons['train_poly_scaled']\n"
      ],
      "execution_count": null,
      "outputs": []
    },
    {
      "cell_type": "code",
      "metadata": {
        "id": "BGRlOm4AdQSq"
      },
      "source": [
        "#save the data\n",
        "import pickle\n",
        "with open('F:\\\\dstl-satellite\\\\t_images_4', 'wb') as f:\n",
        "    pickle.dump(images, f)\n",
        "with open('F:\\\\dstl-satellite\\\\t_masks_4', 'wb') as f:\n",
        "    pickle.dump(train_masks, f)"
      ],
      "execution_count": null,
      "outputs": []
    }
  ]
}