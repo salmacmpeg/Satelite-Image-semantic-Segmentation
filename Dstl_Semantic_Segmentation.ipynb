{
  "nbformat": 4,
  "nbformat_minor": 0,
  "metadata": {
    "colab": {
      "name": "Dstl_Semantic_Segmentation.ipynb",
      "provenance": [],
      "collapsed_sections": [],
      "machine_shape": "hm",
      "authorship_tag": "ABX9TyNBA93m+Q1TecBAUrIqUdeb",
      "include_colab_link": true
    },
    "kernelspec": {
      "name": "python3",
      "display_name": "Python 3"
    },
    "accelerator": "GPU"
  },
  "cells": [
    {
      "cell_type": "markdown",
      "metadata": {
        "id": "view-in-github",
        "colab_type": "text"
      },
      "source": [
        "<a href=\"https://colab.research.google.com/github/salmacmpeg/Satelite-Image-semantic-Segmentation/blob/main/Dstl_Semantic_Segmentation.ipynb\" target=\"_parent\"><img src=\"https://colab.research.google.com/assets/colab-badge.svg\" alt=\"Open In Colab\"/></a>"
      ]
    },
    {
      "cell_type": "code",
      "metadata": {
        "id": "NeVlD_di6mbd",
        "colab": {
          "base_uri": "https://localhost:8080/",
          "height": 1000
        },
        "outputId": "7c32c865-b601-498c-8edc-b19ff2da9961"
      },
      "source": [
        "\n",
        "#this version is the reduced 4 classes +background version , works on t_masks_2 and folders end with 2\n",
        "#............................................\n",
        "#Authors: \n",
        "# salma abdel Monem Abdel Motaleb\n",
        "#..............................................\n",
        "#this code is used after the preprocessing step.\n",
        "#after the preprocessing the images and their masks are saved in two arrays t_images and t_masks.\n",
        "#these two arrays are saved as binary files , exported and uploaded here.\n",
        "\n",
        "#imports\n",
        "!pip install image_slicer\n",
        "!pip install tifffile\n",
        "!pip install python-resize-image\n",
        "!pip install keras_segmentation\n",
        "import tensorflow as tf\n",
        "from collections import defaultdict\n",
        "import csv\n",
        "import sys\n",
        "import cv2\n",
        "from shapely.geometry import MultiPolygon, Polygon\n",
        "import shapely.wkt\n",
        "import shapely.affinity\n",
        "import numpy as np\n",
        "import tifffile as tiff\n",
        "import matplotlib.pyplot as plt\n",
        "import pandas as pd\n",
        "import image_slicer\n",
        "from resizeimage import resizeimage\n",
        "from PIL import Image\n",
        "import pickle\n",
        "from google.colab import drive\n",
        "import os\n",
        "import random\n",
        "import re\n",
        "from PIL import Image\n",
        "from tensorflow.keras.callbacks import ModelCheckpoint\n",
        "from tensorflow.keras.callbacks import CSVLogger\n",
        "from tensorflow.keras.callbacks import EarlyStopping\n",
        "from tensorflow.keras.optimizers import Adam\n",
        "from tensorflow.keras.models import Sequential\n",
        "from tensorflow.keras.layers import Activation, Dropout, Flatten, Dense, Conv2D, MaxPooling2D\n",
        "from keras_segmentation.models.unet import vgg_unet\n",
        "from keras_segmentation.models.segnet import resnet50_segnet \n",
        "import os\n",
        "import skimage.io as io\n",
        "import skimage.transform as trans\n",
        "import numpy as np\n",
        "from keras.models import *\n",
        "from keras.layers import *\n",
        "from keras.optimizers import *\n",
        "from keras.callbacks import ModelCheckpoint, LearningRateScheduler\n",
        "from keras import backend as keras\n",
        "import time\n",
        "from keras import optimizers\n",
        "from keras_segmentation.models.fcn import fcn_32 \n",
        "import matplotlib.pyplot as plt\n",
        "tf.test.gpu_device_name()"
      ],
      "execution_count": null,
      "outputs": [
        {
          "output_type": "stream",
          "text": [
            "Collecting image_slicer\n",
            "  Downloading https://files.pythonhosted.org/packages/d6/1e/6afd4b8c88f888fb7b909b02c102709c413d0dd1ed9047914002b87bc6b9/image_slicer-0.3.0-py3-none-any.whl\n",
            "Requirement already satisfied: Pillow>=4.0.0 in /usr/local/lib/python3.6/dist-packages (from image_slicer) (7.0.0)\n",
            "Installing collected packages: image-slicer\n",
            "Successfully installed image-slicer-0.3.0\n",
            "Collecting tifffile\n",
            "\u001b[?25l  Downloading https://files.pythonhosted.org/packages/17/e8/76979051a2a15b23e2652a3cdeb7d3dfec518c54138bd0f8b5a5ef2c267a/tifffile-2020.2.16-py3-none-any.whl (130kB)\n",
            "\u001b[K     |████████████████████████████████| 133kB 4.8MB/s \n",
            "\u001b[?25hCollecting imagecodecs>=2020.1.31\n",
            "\u001b[?25l  Downloading https://files.pythonhosted.org/packages/e5/c0/a2001ce40ddf86f5944a111d61a8bb2799d10e169ba47979bc6c821cf8be/imagecodecs-2020.2.18-cp36-cp36m-manylinux2014_x86_64.whl (18.1MB)\n",
            "\u001b[K     |████████████████████████████████| 18.1MB 197kB/s \n",
            "\u001b[?25hRequirement already satisfied: numpy>=1.15.1 in /usr/local/lib/python3.6/dist-packages (from tifffile) (1.18.3)\n",
            "Installing collected packages: imagecodecs, tifffile\n",
            "Successfully installed imagecodecs-2020.2.18 tifffile-2020.2.16\n",
            "Collecting python-resize-image\n",
            "  Downloading https://files.pythonhosted.org/packages/bc/89/008481c95551992e1a77503eba490b75fd17c0a98e33dd4dc39e0b99e5e8/python_resize_image-1.1.19-py2.py3-none-any.whl\n",
            "Requirement already satisfied: Pillow>=5.1.0 in /usr/local/lib/python3.6/dist-packages (from python-resize-image) (7.0.0)\n",
            "Requirement already satisfied: requests>=2.19.1 in /usr/local/lib/python3.6/dist-packages (from python-resize-image) (2.23.0)\n",
            "Requirement already satisfied: certifi>=2017.4.17 in /usr/local/lib/python3.6/dist-packages (from requests>=2.19.1->python-resize-image) (2020.4.5.1)\n",
            "Requirement already satisfied: idna<3,>=2.5 in /usr/local/lib/python3.6/dist-packages (from requests>=2.19.1->python-resize-image) (2.9)\n",
            "Requirement already satisfied: urllib3!=1.25.0,!=1.25.1,<1.26,>=1.21.1 in /usr/local/lib/python3.6/dist-packages (from requests>=2.19.1->python-resize-image) (1.24.3)\n",
            "Requirement already satisfied: chardet<4,>=3.0.2 in /usr/local/lib/python3.6/dist-packages (from requests>=2.19.1->python-resize-image) (3.0.4)\n",
            "Installing collected packages: python-resize-image\n",
            "Successfully installed python-resize-image-1.1.19\n",
            "Collecting keras_segmentation\n",
            "  Downloading https://files.pythonhosted.org/packages/43/f0/b8def71a219c6a21f5201727082e846c560817712b3484e8f0c834c9c0e6/keras_segmentation-0.3.0.tar.gz\n",
            "Requirement already satisfied: Keras>=2.0.0 in /usr/local/lib/python3.6/dist-packages (from keras_segmentation) (2.3.1)\n",
            "Collecting imageio==2.5.0\n",
            "\u001b[?25l  Downloading https://files.pythonhosted.org/packages/af/0a/943c965d372dae0b1f1482677d29030ab834351a61a9a632fd62f27f1523/imageio-2.5.0-py3-none-any.whl (3.3MB)\n",
            "\u001b[K     |████████████████████████████████| 3.3MB 6.6MB/s \n",
            "\u001b[?25hRequirement already satisfied: imgaug==0.2.9 in /usr/local/lib/python3.6/dist-packages (from keras_segmentation) (0.2.9)\n",
            "Requirement already satisfied: opencv-python in /usr/local/lib/python3.6/dist-packages (from keras_segmentation) (4.1.2.30)\n",
            "Requirement already satisfied: tqdm in /usr/local/lib/python3.6/dist-packages (from keras_segmentation) (4.38.0)\n",
            "Requirement already satisfied: numpy>=1.9.1 in /usr/local/lib/python3.6/dist-packages (from Keras>=2.0.0->keras_segmentation) (1.18.3)\n",
            "Requirement already satisfied: six>=1.9.0 in /usr/local/lib/python3.6/dist-packages (from Keras>=2.0.0->keras_segmentation) (1.12.0)\n",
            "Requirement already satisfied: h5py in /usr/local/lib/python3.6/dist-packages (from Keras>=2.0.0->keras_segmentation) (2.10.0)\n",
            "Requirement already satisfied: pyyaml in /usr/local/lib/python3.6/dist-packages (from Keras>=2.0.0->keras_segmentation) (3.13)\n",
            "Requirement already satisfied: keras-preprocessing>=1.0.5 in /usr/local/lib/python3.6/dist-packages (from Keras>=2.0.0->keras_segmentation) (1.1.0)\n",
            "Requirement already satisfied: scipy>=0.14 in /usr/local/lib/python3.6/dist-packages (from Keras>=2.0.0->keras_segmentation) (1.4.1)\n",
            "Requirement already satisfied: keras-applications>=1.0.6 in /usr/local/lib/python3.6/dist-packages (from Keras>=2.0.0->keras_segmentation) (1.0.8)\n",
            "Requirement already satisfied: pillow in /usr/local/lib/python3.6/dist-packages (from imageio==2.5.0->keras_segmentation) (7.0.0)\n",
            "Requirement already satisfied: matplotlib in /usr/local/lib/python3.6/dist-packages (from imgaug==0.2.9->keras_segmentation) (3.2.1)\n",
            "Requirement already satisfied: Shapely in /usr/local/lib/python3.6/dist-packages (from imgaug==0.2.9->keras_segmentation) (1.7.0)\n",
            "Requirement already satisfied: scikit-image>=0.11.0 in /usr/local/lib/python3.6/dist-packages (from imgaug==0.2.9->keras_segmentation) (0.16.2)\n",
            "Requirement already satisfied: python-dateutil>=2.1 in /usr/local/lib/python3.6/dist-packages (from matplotlib->imgaug==0.2.9->keras_segmentation) (2.8.1)\n",
            "Requirement already satisfied: pyparsing!=2.0.4,!=2.1.2,!=2.1.6,>=2.0.1 in /usr/local/lib/python3.6/dist-packages (from matplotlib->imgaug==0.2.9->keras_segmentation) (2.4.7)\n",
            "Requirement already satisfied: kiwisolver>=1.0.1 in /usr/local/lib/python3.6/dist-packages (from matplotlib->imgaug==0.2.9->keras_segmentation) (1.2.0)\n",
            "Requirement already satisfied: cycler>=0.10 in /usr/local/lib/python3.6/dist-packages (from matplotlib->imgaug==0.2.9->keras_segmentation) (0.10.0)\n",
            "Requirement already satisfied: networkx>=2.0 in /usr/local/lib/python3.6/dist-packages (from scikit-image>=0.11.0->imgaug==0.2.9->keras_segmentation) (2.4)\n",
            "Requirement already satisfied: PyWavelets>=0.4.0 in /usr/local/lib/python3.6/dist-packages (from scikit-image>=0.11.0->imgaug==0.2.9->keras_segmentation) (1.1.1)\n",
            "Requirement already satisfied: decorator>=4.3.0 in /usr/local/lib/python3.6/dist-packages (from networkx>=2.0->scikit-image>=0.11.0->imgaug==0.2.9->keras_segmentation) (4.4.2)\n",
            "Building wheels for collected packages: keras-segmentation\n",
            "  Building wheel for keras-segmentation (setup.py) ... \u001b[?25l\u001b[?25hdone\n",
            "  Created wheel for keras-segmentation: filename=keras_segmentation-0.3.0-cp36-none-any.whl size=29072 sha256=ea02cb83dfde7d899e67aaba01a98879c5fcbe397665b007d7d2403fb6156cd1\n",
            "  Stored in directory: /root/.cache/pip/wheels/d0/bb/c0/6aad88b38f6e46db048bed4cccb904a5897055a8ab6fbd4dfc\n",
            "Successfully built keras-segmentation\n",
            "\u001b[31mERROR: albumentations 0.1.12 has requirement imgaug<0.2.7,>=0.2.5, but you'll have imgaug 0.2.9 which is incompatible.\u001b[0m\n",
            "Installing collected packages: imageio, keras-segmentation\n",
            "  Found existing installation: imageio 2.4.1\n",
            "    Uninstalling imageio-2.4.1:\n",
            "      Successfully uninstalled imageio-2.4.1\n",
            "Successfully installed imageio-2.5.0 keras-segmentation-0.3.0\n"
          ],
          "name": "stdout"
        },
        {
          "output_type": "stream",
          "text": [
            "Using TensorFlow backend.\n"
          ],
          "name": "stderr"
        },
        {
          "output_type": "execute_result",
          "data": {
            "text/plain": [
              "'/device:GPU:0'"
            ]
          },
          "metadata": {
            "tags": []
          },
          "execution_count": 1
        }
      ]
    },
    {
      "cell_type": "code",
      "metadata": {
        "id": "UNNmok_h8_6I",
        "colab": {
          "base_uri": "https://localhost:8080/",
          "height": 275
        },
        "outputId": "5d4f5cc5-7624-4eb2-8f18-ae5133516fb8"
      },
      "source": [
        "#mount the drive to load the data\n",
        "drive.mount('/content/gdrive')\n",
        "%cd /content/gdrive/My\\ Drive//Colab Notebooks/Satellite_Segmentation\n",
        "!ls\n"
      ],
      "execution_count": null,
      "outputs": [
        {
          "output_type": "stream",
          "text": [
            "Go to this URL in a browser: https://accounts.google.com/o/oauth2/auth?client_id=947318989803-6bn6qk8qdgf4n4g3pfee6491hc0brc4i.apps.googleusercontent.com&redirect_uri=urn%3aietf%3awg%3aoauth%3a2.0%3aoob&response_type=code&scope=email%20https%3a%2f%2fwww.googleapis.com%2fauth%2fdocs.test%20https%3a%2f%2fwww.googleapis.com%2fauth%2fdrive%20https%3a%2f%2fwww.googleapis.com%2fauth%2fdrive.photos.readonly%20https%3a%2f%2fwww.googleapis.com%2fauth%2fpeopleapi.readonly\n",
            "\n",
            "Enter your authorization code:\n",
            "··········\n",
            "Mounted at /content/gdrive\n",
            "/content/gdrive/My Drive/Colab Notebooks/Satellite_Segmentation\n",
            "frames3\t\t\t  test_masks3\t validation_frames2\n",
            "masks2\t\t\t  t_images_2\t validation_frames3\n",
            "masks3\t\t\t  t_masks_2\t validation_masks2\n",
            "seg_v1_Abdelrahman.ipynb  t_masks_3\t validation_masks3\n",
            "seg_v1.ipynb\t\t  train_frames2  vgg_unet_red_ADAM_noaug_8batch.h5\n",
            "test_frames2\t\t  train_frames3  vgg_unet_red_SGD_aug_8batch.h5\n",
            "test_frames3\t\t  train_masks2\t vgg_unet_red_SGD_noaug_16batch.h5\n",
            "test_masks2\t\t  train_masks3\t vgg_unet_red_SGD_noaug_8batch.h5\n"
          ],
          "name": "stdout"
        }
      ]
    },
    {
      "cell_type": "code",
      "metadata": {
        "id": "nom9ypxX85t3"
      },
      "source": [
        "DATA_PATH=Data_Dir='/content/gdrive/My Drive/Colab Notebooks/Satellite_Segmentation'\n",
        "Num_Classes=5"
      ],
      "execution_count": null,
      "outputs": []
    },
    {
      "cell_type": "code",
      "metadata": {
        "id": "1F1G8nSA0scE"
      },
      "source": [
        "#colors for each class\n",
        "#we have 7 classes shown below\n",
        "#sorted from 0 to 6\n",
        "#we will use this colormap for visualization after segmentation\n",
        "background=[255,255,255]\n",
        "building=[100,50,100]\n",
        "water=[50,60,200]\n",
        "road=[200,130,50]\n",
        "track=[255,255,100]\n",
        "trees=[20,120,80]\n",
        "crops=[30,230,150]\n",
        "water2=[50,50,150]\n",
        "#oldcolor_map=[{0:background},{1:building},{2:water},{3:road},{4:track},{5:trees},{6:crops},{7:water2}]\n",
        "color_map=[{0:background},{1:building},{2:water},{3:road},{4:crops},{5:trees},{6:track},{7:water2}]"
      ],
      "execution_count": null,
      "outputs": []
    },
    {
      "cell_type": "code",
      "metadata": {
        "id": "_S8e4YHUr6G0"
      },
      "source": [
        "#load the original images and masks frame(before splitting) and after the preprocessing is done\n",
        "def load_original():\n",
        "  with open(Data_Dir+'/t_images_2', 'rb') as f:\n",
        "      images = pickle.load(f)\n",
        "  with open(Data_Dir+'/t_masks_2', 'rb') as f:\n",
        "      masks = pickle.load(f)\n",
        "  #now let's merge the water classes (2 and 7) to be 2 only\n",
        "  new_mask=[]\n",
        "  for item in masks:\n",
        "    item=np.where(item==7, 2, item) #move water2 to water\n",
        "    item=np.where(item==6, 5, item) #move crops to trees\n",
        "    item=np.where(item==4, 3, item) #move track to road\n",
        "    item=np.where(item==5, 4, item) #move crops and trees to be in 4\n",
        "    new_mask.append(item)\n",
        "  print(np.unique(new_mask[24]))\n",
        "    #now we have 5 classes including the background {background, building, water, road,crops}\n",
        "  return images,new_mask"
      ],
      "execution_count": null,
      "outputs": []
    },
    {
      "cell_type": "code",
      "metadata": {
        "id": "9YmTO4jDhVqx"
      },
      "source": [
        "#this function divides the original image of size (3348,3348) to (num_slices*num_slices) smaller images\n",
        "def slicing_image(image_size,images,num_slices,mask=False):\n",
        "    new_images=[]\n",
        "    for im in images:\n",
        "        #im3 scaled to 0 to 255 and resized to the image size\n",
        "        if mask==True:\n",
        "          im3 = cv2.resize((im), image_size, interpolation = cv2.INTER_AREA)\n",
        "          bsize=int(image_size[0]/num_slices)\n",
        "          for i in range(num_slices):\n",
        "              for j in range(num_slices):\n",
        "                  x0,y0,x1,y1 = (i*bsize, j*bsize, (i+1)*bsize, (j+1)*bsize) \n",
        "                  new_images.append(im3[x0:x1,y0:y1])\n",
        "        else:\n",
        "          im3 = cv2.resize(scale_percentile(im), image_size, interpolation = cv2.INTER_AREA)\n",
        "          bsize=int(image_size[0]/num_slices)\n",
        "          for i in range(num_slices):\n",
        "              for j in range(num_slices):\n",
        "                  x0,y0,x1,y1 = (i*bsize, j*bsize, (i+1)*bsize, (j+1)*bsize) \n",
        "                  new_images.append(im3[x0:x1,y0:y1,:])\n",
        "    return new_images"
      ],
      "execution_count": null,
      "outputs": []
    },
    {
      "cell_type": "code",
      "metadata": {
        "id": "DMASDf58g0bU"
      },
      "source": [
        "#this cell is from https://www.kaggle.com/lopuhin/full-pipeline-demo-poly-pixels-ml-poly\n",
        "def scale_percentile(matrix):\n",
        "    w, h, d = matrix.shape\n",
        "    matrix = np.reshape(matrix, [w * h, d]).astype(np.float64)\n",
        "    # Get 2nd and 98th percentile\n",
        "    mins = np.percentile(matrix, 1, axis=0)\n",
        "    maxs = np.percentile(matrix, 99, axis=0) - mins\n",
        "    matrix = (matrix - mins[None, :]) / maxs[None, :]\n",
        "    matrix = np.reshape(matrix, [w, h, d])\n",
        "    matrix = matrix.clip(0, 1)\n",
        "    return (matrix*255).astype(np.uint8)"
      ],
      "execution_count": null,
      "outputs": []
    },
    {
      "cell_type": "code",
      "metadata": {
        "id": "GXE-9MoyA94E"
      },
      "source": [
        "#caller for the slicing function on the frames and the masks\n",
        "def images_splitting(num_slices,images,new_mask):\n",
        "  #image_size=[3348,3348]\n",
        "  image_size=(3348,3348)\n",
        "  new_images=slicing_image(image_size,images,num_slices,mask=False)\n",
        "  new_masks=slicing_image(image_size,new_mask,num_slices,mask=True) \n",
        "  bsize=int(image_size[0]/num_slices)\n",
        "  print(\"smaller image size: \", bsize)\n",
        "  print(\"number of new images: \",len(new_images))\n",
        "  return new_images,new_masks"
      ],
      "execution_count": null,
      "outputs": []
    },
    {
      "cell_type": "code",
      "metadata": {
        "id": "QwTF6RU9A-qH"
      },
      "source": [
        "#dont rerun this\n",
        "#saves the new smaller sized images in the frames and masks directories\n",
        "def save_smaller_images(new_images,new_masks):\n",
        "  Frames_PATH=Data_Dir+'/frames3'\n",
        "  for i in range(len(new_images)):\n",
        "    j=0\n",
        "    #cv2.imwrite(Frames_PATH+'/{}'.format(i)+'.png',new_images[i])\n",
        "    \n",
        "  Masks_PATH=Data_Dir+'/masks2'\n",
        "  for i in range(len(new_masks)):\n",
        "    #cv2.imwrite(Masks_PATH+'/{}'.format(i)+'.png',new_masks[i])\n",
        "    j=0\n",
        "    "
      ],
      "execution_count": null,
      "outputs": []
    },
    {
      "cell_type": "code",
      "metadata": {
        "id": "WpP4oQFSBdcO"
      },
      "source": [
        "#dont rerun this\n",
        "#splits and saves the new smaller sized images from the frames and masks directories to the train, test and validation directories\n",
        "#this cell is from https://towardsdatascience.com/a-keras-pipeline-for-image-segmentation-part-1-6515a421157d\n",
        "DATA_PATH = Data_Dir\n",
        "FRAME_PATH = DATA_PATH+'/frames3/'\n",
        "MASK_PATH = DATA_PATH+'/masks2/'\n",
        "def add_frames(dir_name, image):\n",
        "    img=cv2.imread(FRAME_PATH+image)\n",
        "    #cv2.imwrite(DATA_PATH+'/{}'.format(dir_name)+'/'+image,img)\n",
        "    \n",
        "def add_masks(dir_name, image):\n",
        "    img=cv2.imread(MASK_PATH+image)\n",
        "    #cv2.imwrite(DATA_PATH+'/{}'.format(dir_name)+'/'+image,img)\n",
        "   \n",
        "\n",
        "def save_train_validation_test():\n",
        "  DATA_PATH = Data_Dir\n",
        "  FRAME_PATH = DATA_PATH+'/frames3/'\n",
        "  MASK_PATH = DATA_PATH+'/masks2/'\n",
        "  folders = ['train_frames2', 'train_masks2', 'validation_frames2', 'validation_masks2', 'test_frames2', 'test_masks2']\n",
        "  # Get all frames and masks, sort them, shuffle them to generate data sets.\n",
        "  all_frames = os.listdir(FRAME_PATH)\n",
        "  all_masks = os.listdir(MASK_PATH)\n",
        "  all_frames.sort(key=lambda var:[int(x) if x.isdigit() else x \n",
        "                                  for x in re.findall(r'[^0-9]|[0-9]+', var)])\n",
        "  all_masks.sort(key=lambda var:[int(x) if x.isdigit() else x \n",
        "                                for x in re.findall(r'[^0-9]|[0-9]+', var)])\n",
        "  random.seed(230)\n",
        "  random.shuffle(all_frames)\n",
        "  # Generate train, val, and test sets for frames\n",
        "  train_split = int(0.7*len(all_frames))\n",
        "  val_split = int(0.9 * len(all_frames))\n",
        "\n",
        "  train_frames = all_frames[:train_split]\n",
        "  val_frames = all_frames[train_split:val_split]\n",
        "  test_frames = all_frames[val_split:]\n",
        "\n",
        "  # Generate corresponding mask lists for masks\n",
        "  train_masks = [f for f in all_masks if f in train_frames]\n",
        "  test_masks = [f for f in all_masks if f in test_frames]\n",
        "  val_masks = [f for f in all_masks if f in val_frames]\n",
        "  #Add train, val, test frames and masks to relevant folders\n",
        "\n",
        "  frame_folders = [(train_frames, 'train_frames2'), (val_frames, 'validation_frames2'), \n",
        "                  (test_frames, 'test_frames2')]\n",
        "\n",
        "  mask_folders = [(train_masks, 'train_masks2'), (val_masks, 'validation_masks2'), \n",
        "                  (test_masks, 'test_masks2')]\n",
        "  #saving the frames\n",
        "  for folder in frame_folders:\n",
        "    array = folder[0]\n",
        "    name = [folder[1]] * len(array)\n",
        "    print('saving folder',folder[1])\n",
        "    list(map(add_frames, name, array))\n",
        "    print('done saving ',len(folder[0]))\n",
        "  #saving the masks\n",
        "  for folder in mask_folders:\n",
        "    array = folder[0]\n",
        "    name = [folder[1]] * len(array)\n",
        "    print('saving folder',folder[1])\n",
        "    list(map(add_masks, name, array))\n",
        "    print('done saving ',len(folder[0]))\n"
      ],
      "execution_count": null,
      "outputs": []
    },
    {
      "cell_type": "code",
      "metadata": {
        "id": "Med0xAwtBI1D"
      },
      "source": [
        "#view percentage of every class in the masks\n",
        "#the classes are unbalanced :(\n",
        "def view_distribution(new_masks):\n",
        "  perc=np.zeros(Num_Classes)\n",
        "  total=0\n",
        "  copy_mask=new_masks\n",
        "  for item in copy_mask:\n",
        "    item=np.array(item)\n",
        "    total+=item.shape[0]*item.shape[1]\n",
        "    for index in range(Num_Classes):\n",
        "      perc[index]+=np.count_nonzero(item == index)\n",
        "  avg=[peri / total for peri in perc]\n",
        "  print(avg)\n",
        "  plt.scatter(range(Num_Classes),avg)"
      ],
      "execution_count": null,
      "outputs": []
    },
    {
      "cell_type": "code",
      "metadata": {
        "id": "NkiQ3KgxgApd"
      },
      "source": [
        "#plots the accuracy and the loss after the model is trained\n",
        "#this cell is from https://machinelearningmastery.com/display-deep-learning-model-training-history-in-keras/\n",
        "def print_statistics(m):\n",
        "  print(m.history.history.keys())\n",
        "  plt.plot(m.history.history['accuracy'])\n",
        "  plt.plot(m.history.history['val_accuracy'])\n",
        "  plt.title('model accuracy')\n",
        "  plt.ylabel('accuracy')\n",
        "  plt.xlabel('epoch')\n",
        "  plt.legend(['train', 'test'], loc='upper left')\n",
        "  plt.show()\n",
        "  # summarize history for loss\n",
        "  plt.plot(m.history.history['loss'])\n",
        "  plt.plot(m.history.history['val_loss'])\n",
        "  plt.title('model loss')\n",
        "  plt.ylabel('loss')\n",
        "  plt.xlabel('epoch')\n",
        "  plt.legend(['train', 'test'], loc='upper left')\n",
        "  plt.show()"
      ],
      "execution_count": null,
      "outputs": []
    },
    {
      "cell_type": "code",
      "metadata": {
        "id": "xGReRcC5gNaJ"
      },
      "source": [
        "#prints the Intersection of union for each class in the predected test set\n",
        "def evaluate_test(m):\n",
        "  ev=m.evaluate_segmentation( inp_images_dir=DATA_PATH+'/test_frames2'  , annotations_dir=DATA_PATH+'/test_masks2'  )\n",
        "  print(ev)\n"
      ],
      "execution_count": null,
      "outputs": []
    },
    {
      "cell_type": "code",
      "metadata": {
        "id": "eAn5BF2rOhqX"
      },
      "source": [
        "#this function converts a segmented mask to the according colormap\n",
        "def view_seg(image):\n",
        "  w,h=image.shape\n",
        "  n_image=np.zeros((w,h,3))\n",
        "  for layer in range(n_image.shape[2]):\n",
        "    n_image[:,:,layer]=image\n",
        "    for index in range(len(color_map)):\n",
        "      for key in color_map[index]:\n",
        "        n_image[:,:,layer]=np.where(n_image[:,:,layer]==key, color_map[index][key][layer], n_image[:,:,layer])\n",
        "  return n_image"
      ],
      "execution_count": null,
      "outputs": []
    },
    {
      "cell_type": "code",
      "metadata": {
        "id": "eJyyU8ZNgaRe"
      },
      "source": [
        "#predict and show one segmented image\n",
        "#example image='/test_frames/1568.png'\n",
        "def pred_and_show(m,image='/test_frames2/1568.png'):\n",
        "  out = m.predict_segmentation(\n",
        "      inp=DATA_PATH+image,\n",
        "      out_fname=\"/tmp/out.png\"\n",
        "  )\n",
        "  out2=view_seg(out)\n",
        "  out2=out2.astype(np.uint8)\n",
        "  plt.imshow(out2)\n",
        "  return out2"
      ],
      "execution_count": null,
      "outputs": []
    },
    {
      "cell_type": "code",
      "metadata": {
        "id": "HEbFzBXfcl7V"
      },
      "source": [
        "#this train function calls  models implemeted in the keras_segmentation library\n",
        "#add more models and optimizers\n",
        "#returns the model after training and saving\n",
        "def train_model(DATA_PATH,model_name,epochs,batch_size,optimizer_name,optimizer_lr,optimizer_mom,save_name):\n",
        "  if model_name=='vgg_unet':\n",
        "    m = vgg_unet(n_classes=Num_Classes ,  input_height=416, input_width=416  )\n",
        "  elif model_name=='resnet50_segnet':\n",
        "    m=resnet50_segnet(n_classes=Num_Classes ,  input_height=416, input_width=416  )\n",
        "  elif model_name=='fcn_32':\n",
        "    m=fcn_32(n_classes=Num_Classes ,  input_height=416, input_width=416  )\n",
        "  elif model_name=='unet':\n",
        "    m=unet(n_classes=Num_Classes ,  input_height=416, input_width=416  )\n",
        "  elif model_name== 'resnet50_unet':\n",
        "    m=resnet50_unet(n_classes=Num_Classes ,  input_height=416, input_width=416 )\n",
        "  elif model_name== 'segnet':\n",
        "    m=segnet(n_classes=Num_Classes ,  input_height=416, input_width=416 )\n",
        "  elif model_name== 'resnet50_segnet':\n",
        "    m=resnet50_segnet(n_classes=Num_Classes ,  input_height=416, input_width=416 )\n",
        "  elif model_name== 'fcn_8':\n",
        "    m=fcn_8(n_classes=Num_Classes ,  input_height=416, input_width=416 )\n",
        "  elif model_name== 'fcn_8_resnet50':\n",
        "    m=fcn_8_resnet50(n_classes=Num_Classes ,  input_height=416, input_width=416 )\n",
        "  else:\n",
        "    print('invalid model name ')\n",
        "    return\n",
        "  if optimizer_name=='SGD':\n",
        "    opt = optimizers.SGD(lr=optimizer_lr, decay=1e-6, momentum=optimizer_mom, nesterov=True)\n",
        "  else:\n",
        "    opt='adadelta'\n",
        "  start_train_time = time.time()\n",
        "  hist =m.train(\n",
        "    train_images =  DATA_PATH+'/train_frames2',\n",
        "    train_annotations = DATA_PATH+'/train_masks2',\n",
        "    #checkpoints_path = DATA_PATH+'/vgg_unet_save_point' ,\n",
        "    epochs=epochs,\n",
        "    validate=True,\n",
        "    val_images=DATA_PATH+'/validation_frames2',\n",
        "    val_annotations=DATA_PATH+'/validation_masks2',\n",
        "    auto_resume_checkpoint=False,\n",
        "    do_augment=False,\n",
        "    batch_size=batch_size,\n",
        "    val_batch_size=batch_size,\n",
        "    steps_per_epoch=8,\n",
        "    val_steps_per_epoch=3,\n",
        "    gen_use_multiprocessing=True,\n",
        "    optimizer_name=opt\n",
        "  )\n",
        "  end_train_time=time.time()\n",
        "  print(\"--- %s train time in seconds ---\" % (end_train_time - start_train_time))\n",
        "  m.summary()\n",
        "  print('saving model')\n",
        "  m.save((DATA_PATH+\"/\"+save_name+\".h5\"))\n",
        "  return m\n"
      ],
      "execution_count": null,
      "outputs": []
    },
    {
      "cell_type": "code",
      "metadata": {
        "id": "rD7zzx7uhqVk",
        "colab": {
          "base_uri": "https://localhost:8080/",
          "height": 1000
        },
        "outputId": "016f6f9b-f195-42d7-c69d-e2de992084f7"
      },
      "source": [
        "#images loading takes sometime when running for the first time\n",
        "#distribution of classes [0.5560327579454594, 0.03484318855421096, 0.006663454603407875, 0.03579812240882824, 0.3666624764880935]\n",
        "#def main():\n",
        "  from keras_segmentation.models.unet import unet\n",
        "  from keras_segmentation.models.unet import resnet50_unet\n",
        "  from keras_segmentation.models.segnet import segnet,resnet50_segnet\n",
        "  from keras_segmentation.models.fcn import fcn_8,fcn_8_resnet50\n",
        "  #images,masks=load_original()\n",
        "  view_distribution(masks)\n",
        "  num_slices=8\n",
        "  new_images,new_masks=images_splitting(num_slices,images,masks)\n",
        "  save_smaller_images(new_images,new_masks)\n",
        "  save_train_validation_test()\n",
        "  DATA_PATH='/content/gdrive/My Drive/Colab Notebooks/Satellite_Segmentation'\n",
        "  #examples:\n",
        "  #m2=train_model(DATA_PATH,model_name='unet',epochs=100,batch_size=16,optimizer_name='SGD',optimizer_lr=0.01,optimizer_mom=0.9,save_name='unet_red_SGD_noaug_16batch')\n",
        "  #m3=train_model(DATA_PATH,model_name='resnet50_unet',epochs=50,batch_size=8,optimizer_name='SGD',optimizer_lr=0.01,optimizer_mom=0.9,save_name='resnet50_unet_red_SGD_noaug_8batch_50epoch')\n",
        "  #m4=train_model(DATA_PATH,model_name='segnet',epochs=50,batch_size=16,optimizer_name='SGD',optimizer_lr=0.01,optimizer_mom=0.9,save_name='segnet_red_SGD_noaug_8batch_50epoch')\n",
        "  #m6=train_model(DATA_PATH,model_name='resnet50_segnet',epochs=100,batch_size=8,optimizer_name='SGD',optimizer_lr=0.01,optimizer_mom=0.9,save_name='resnet50_segnet_red_SGD_noaug_8_2batch_100epoch')\n",
        "  #m7=train_model(DATA_PATH,model_name='resnet50_segnet',epochs=100,batch_size=8,optimizer_name='adadelta',optimizer_lr=0.01,optimizer_mom=0.9,save_name='resnet50_segnet_red_ADAM_noaug_8_2batch_100epoch')\n",
        "  #m8=train_model(DATA_PATH,model_name='resnet50_segnet',epochs=100,batch_size=8,optimizer_name='adadelta',optimizer_lr=0.01,optimizer_mom=0.9,save_name='resnet50_segnet_red_ADAM_noaug_8_2batch_100epoch')\n",
        "  m9=train_model(DATA_PATH,model_name='fcn_8',epochs=30,batch_size=8,optimizer_name='adadelta',optimizer_lr=0.01,optimizer_mom=0.9,save_name='fcn_8_red_adadelta_noaugbatch_30epoch')\n",
        "  print_statistics(m9)\n",
        "  evaluate_test(m9)\n",
        "  pred_and_show(m9,image='/test_frames3/1405.png')"
      ],
      "execution_count": null,
      "outputs": [
        {
          "output_type": "stream",
          "text": [
            "[0.5560327579454594, 0.03484318855421096, 0.006663454603407875, 0.03579812240882824, 0.3666624764880935]\n",
            "Verifying training dataset\n"
          ],
          "name": "stdout"
        },
        {
          "output_type": "stream",
          "text": [
            "\n",
            "  0%|          | 0/1120 [00:00<?, ?it/s]\u001b[A\n",
            "  1%|          | 10/1120 [00:00<00:11, 96.87it/s]\u001b[A\n",
            "  2%|▏         | 20/1120 [00:00<00:11, 94.90it/s]\u001b[A\n",
            "  3%|▎         | 30/1120 [00:00<00:11, 94.76it/s]\u001b[A\n",
            "  4%|▎         | 40/1120 [00:00<00:11, 95.37it/s]\u001b[A\n",
            "  4%|▍         | 49/1120 [00:00<00:11, 92.22it/s]\u001b[A\n",
            "  5%|▌         | 59/1120 [00:00<00:11, 93.70it/s]\u001b[A\n",
            "  6%|▌         | 69/1120 [00:00<00:11, 95.46it/s]\u001b[A\n",
            "  7%|▋         | 80/1120 [00:00<00:10, 97.20it/s]\u001b[A\n",
            "  8%|▊         | 90/1120 [00:00<00:10, 96.06it/s]\u001b[A\n",
            "  9%|▉         | 100/1120 [00:01<00:10, 94.97it/s]\u001b[A\n",
            " 10%|▉         | 110/1120 [00:01<00:10, 95.56it/s]\u001b[A\n",
            " 11%|█         | 120/1120 [00:01<00:10, 94.57it/s]\u001b[A\n",
            " 12%|█▏        | 130/1120 [00:01<00:10, 94.05it/s]\u001b[A\n",
            " 12%|█▎        | 140/1120 [00:01<00:10, 95.43it/s]\u001b[A\n",
            " 13%|█▎        | 150/1120 [00:01<00:10, 94.33it/s]\u001b[A\n",
            " 14%|█▍        | 160/1120 [00:01<00:10, 95.08it/s]\u001b[A\n",
            " 15%|█▌        | 170/1120 [00:01<00:10, 94.60it/s]\u001b[A\n",
            " 16%|█▌        | 180/1120 [00:01<00:09, 95.24it/s]\u001b[A\n",
            " 17%|█▋        | 190/1120 [00:02<00:09, 95.13it/s]\u001b[A\n",
            " 18%|█▊        | 200/1120 [00:02<00:09, 94.28it/s]\u001b[A\n",
            " 19%|█▉        | 211/1120 [00:02<00:09, 96.40it/s]\u001b[A\n",
            " 20%|█▉        | 221/1120 [00:02<00:09, 96.61it/s]\u001b[A\n",
            " 21%|██        | 231/1120 [00:02<00:09, 93.79it/s]\u001b[A\n",
            " 22%|██▏       | 241/1120 [00:02<00:09, 95.15it/s]\u001b[A\n",
            " 22%|██▏       | 251/1120 [00:02<00:09, 93.49it/s]\u001b[A\n",
            " 23%|██▎       | 261/1120 [00:02<00:09, 94.16it/s]\u001b[A\n",
            " 24%|██▍       | 271/1120 [00:02<00:08, 95.19it/s]\u001b[A\n",
            " 25%|██▌       | 281/1120 [00:02<00:08, 93.98it/s]\u001b[A\n",
            " 26%|██▌       | 291/1120 [00:03<00:08, 94.33it/s]\u001b[A\n",
            " 27%|██▋       | 301/1120 [00:03<00:08, 93.73it/s]\u001b[A\n",
            " 28%|██▊       | 311/1120 [00:03<00:08, 94.24it/s]\u001b[A\n",
            " 29%|██▊       | 321/1120 [00:03<00:08, 93.62it/s]\u001b[A\n",
            " 30%|██▉       | 331/1120 [00:03<00:08, 93.13it/s]\u001b[A\n",
            " 30%|███       | 341/1120 [00:03<00:08, 92.63it/s]\u001b[A\n",
            " 31%|███▏      | 351/1120 [00:03<00:08, 94.67it/s]\u001b[A\n",
            " 32%|███▏      | 362/1120 [00:03<00:07, 96.68it/s]\u001b[A\n",
            " 33%|███▎      | 372/1120 [00:03<00:07, 95.81it/s]\u001b[A\n",
            " 34%|███▍      | 382/1120 [00:04<00:07, 94.34it/s]\u001b[A\n",
            " 35%|███▌      | 392/1120 [00:04<00:07, 93.90it/s]\u001b[A\n",
            " 36%|███▌      | 403/1120 [00:04<00:07, 95.75it/s]\u001b[A\n",
            " 37%|███▋      | 413/1120 [00:04<00:07, 94.72it/s]\u001b[A\n",
            " 38%|███▊      | 423/1120 [00:04<00:07, 94.63it/s]\u001b[A\n",
            " 39%|███▊      | 433/1120 [00:04<00:07, 95.95it/s]\u001b[A\n",
            " 40%|███▉      | 443/1120 [00:04<00:06, 96.74it/s]\u001b[A\n",
            " 40%|████      | 453/1120 [00:04<00:06, 96.88it/s]\u001b[A\n",
            " 41%|████▏     | 463/1120 [00:04<00:06, 96.54it/s]\u001b[A\n",
            " 42%|████▏     | 473/1120 [00:04<00:06, 95.45it/s]\u001b[A\n",
            " 43%|████▎     | 483/1120 [00:05<00:06, 93.92it/s]\u001b[A\n",
            " 44%|████▍     | 493/1120 [00:05<00:06, 91.99it/s]\u001b[A\n",
            " 45%|████▍     | 503/1120 [00:05<00:06, 90.68it/s]\u001b[A\n",
            " 46%|████▌     | 513/1120 [00:05<00:06, 92.14it/s]\u001b[A\n",
            " 47%|████▋     | 523/1120 [00:05<00:06, 91.39it/s]\u001b[A\n",
            " 48%|████▊     | 533/1120 [00:05<00:06, 91.29it/s]\u001b[A\n",
            " 48%|████▊     | 543/1120 [00:05<00:06, 92.69it/s]\u001b[A\n",
            " 49%|████▉     | 554/1120 [00:05<00:05, 95.30it/s]\u001b[A\n",
            " 50%|█████     | 564/1120 [00:05<00:05, 95.23it/s]\u001b[A\n",
            " 51%|█████▏    | 574/1120 [00:06<00:05, 93.57it/s]\u001b[A\n",
            " 52%|█████▏    | 584/1120 [00:06<00:05, 93.86it/s]\u001b[A\n",
            " 53%|█████▎    | 594/1120 [00:06<00:05, 94.56it/s]\u001b[A\n",
            " 54%|█████▍    | 604/1120 [00:06<00:05, 94.56it/s]\u001b[A\n",
            " 55%|█████▍    | 614/1120 [00:06<00:05, 94.79it/s]\u001b[A\n",
            " 56%|█████▌    | 624/1120 [00:06<00:05, 94.35it/s]\u001b[A\n",
            " 57%|█████▋    | 634/1120 [00:06<00:05, 94.04it/s]\u001b[A\n",
            " 58%|█████▊    | 645/1120 [00:06<00:04, 96.37it/s]\u001b[A\n",
            " 58%|█████▊    | 655/1120 [00:06<00:04, 94.93it/s]\u001b[A\n",
            " 59%|█████▉    | 665/1120 [00:07<00:04, 95.24it/s]\u001b[A\n",
            " 60%|██████    | 675/1120 [00:07<00:04, 96.15it/s]\u001b[A\n",
            " 61%|██████    | 685/1120 [00:07<00:04, 93.90it/s]\u001b[A\n",
            " 62%|██████▏   | 695/1120 [00:07<00:04, 94.58it/s]\u001b[A\n",
            " 63%|██████▎   | 705/1120 [00:07<00:04, 94.43it/s]\u001b[A\n",
            " 64%|██████▍   | 715/1120 [00:07<00:04, 95.59it/s]\u001b[A\n",
            " 65%|██████▍   | 725/1120 [00:07<00:04, 93.28it/s]\u001b[A\n",
            " 66%|██████▌   | 735/1120 [00:07<00:04, 93.03it/s]\u001b[A\n",
            " 67%|██████▋   | 745/1120 [00:07<00:04, 93.26it/s]\u001b[A\n",
            " 67%|██████▋   | 755/1120 [00:07<00:03, 92.77it/s]\u001b[A\n",
            " 68%|██████▊   | 765/1120 [00:08<00:04, 88.23it/s]\u001b[A\n",
            " 69%|██████▉   | 775/1120 [00:08<00:03, 90.84it/s]\u001b[A\n",
            " 70%|███████   | 786/1120 [00:08<00:03, 94.25it/s]\u001b[A\n",
            " 71%|███████   | 796/1120 [00:08<00:03, 94.36it/s]\u001b[A\n",
            " 72%|███████▏  | 806/1120 [00:08<00:03, 94.39it/s]\u001b[A\n",
            " 73%|███████▎  | 816/1120 [00:08<00:03, 95.65it/s]\u001b[A\n",
            " 74%|███████▍  | 826/1120 [00:08<00:03, 94.75it/s]\u001b[A\n",
            " 75%|███████▍  | 836/1120 [00:08<00:03, 93.63it/s]\u001b[A\n",
            " 76%|███████▌  | 846/1120 [00:08<00:02, 94.24it/s]\u001b[A\n",
            " 76%|███████▋  | 856/1120 [00:09<00:02, 94.18it/s]\u001b[A\n",
            " 77%|███████▋  | 866/1120 [00:09<00:02, 93.05it/s]\u001b[A\n",
            " 78%|███████▊  | 876/1120 [00:09<00:02, 92.26it/s]\u001b[A\n",
            " 79%|███████▉  | 886/1120 [00:09<00:02, 92.92it/s]\u001b[A\n",
            " 80%|████████  | 896/1120 [00:09<00:02, 93.45it/s]\u001b[A\n",
            " 81%|████████  | 906/1120 [00:09<00:02, 93.30it/s]\u001b[A\n",
            " 82%|████████▏ | 916/1120 [00:09<00:02, 93.39it/s]\u001b[A\n",
            " 83%|████████▎ | 926/1120 [00:09<00:02, 92.30it/s]\u001b[A\n",
            " 84%|████████▎ | 936/1120 [00:09<00:01, 93.20it/s]\u001b[A\n",
            " 84%|████████▍ | 946/1120 [00:10<00:01, 91.60it/s]\u001b[A\n",
            " 85%|████████▌ | 956/1120 [00:10<00:01, 90.96it/s]\u001b[A\n",
            " 86%|████████▋ | 967/1120 [00:10<00:01, 94.57it/s]\u001b[A\n",
            " 87%|████████▋ | 977/1120 [00:10<00:01, 93.85it/s]\u001b[A\n",
            " 88%|████████▊ | 987/1120 [00:10<00:01, 92.60it/s]\u001b[A\n",
            " 89%|████████▉ | 998/1120 [00:10<00:01, 94.89it/s]\u001b[A\n",
            " 90%|█████████ | 1008/1120 [00:10<00:01, 93.69it/s]\u001b[A\n",
            " 91%|█████████ | 1018/1120 [00:10<00:01, 93.61it/s]\u001b[A\n",
            " 92%|█████████▏| 1028/1120 [00:10<00:00, 93.33it/s]\u001b[A\n",
            " 93%|█████████▎| 1038/1120 [00:11<00:00, 92.32it/s]\u001b[A\n",
            " 94%|█████████▎| 1048/1120 [00:11<00:00, 93.32it/s]\u001b[A\n",
            " 94%|█████████▍| 1058/1120 [00:11<00:00, 94.91it/s]\u001b[A\n",
            " 95%|█████████▌| 1069/1120 [00:11<00:00, 96.61it/s]\u001b[A\n",
            " 96%|█████████▋| 1079/1120 [00:11<00:00, 97.11it/s]\u001b[A\n",
            " 97%|█████████▋| 1089/1120 [00:11<00:00, 96.82it/s]\u001b[A\n",
            " 98%|█████████▊| 1099/1120 [00:11<00:00, 97.12it/s]\u001b[A\n",
            " 99%|█████████▉| 1109/1120 [00:11<00:00, 96.87it/s]\u001b[A\n",
            "100%|██████████| 1120/1120 [00:11<00:00, 94.35it/s]\n",
            "\n",
            "  0%|          | 0/320 [00:00<?, ?it/s]\u001b[A"
          ],
          "name": "stderr"
        },
        {
          "output_type": "stream",
          "text": [
            "Dataset verified! \n",
            "Verifying validation dataset\n"
          ],
          "name": "stdout"
        },
        {
          "output_type": "stream",
          "text": [
            "\n",
            "  3%|▎         | 10/320 [00:00<00:03, 90.62it/s]\u001b[A\n",
            "  7%|▋         | 21/320 [00:00<00:03, 95.11it/s]\u001b[A\n",
            " 10%|▉         | 31/320 [00:00<00:02, 96.40it/s]\u001b[A\n",
            " 13%|█▎        | 41/320 [00:00<00:02, 95.87it/s]\u001b[A\n",
            " 16%|█▌        | 51/320 [00:00<00:02, 96.98it/s]\u001b[A\n",
            " 19%|█▉        | 62/320 [00:00<00:02, 99.82it/s]\u001b[A\n",
            " 23%|██▎       | 73/320 [00:00<00:02, 101.83it/s]\u001b[A\n",
            " 26%|██▌       | 83/320 [00:00<00:02, 99.95it/s] \u001b[A\n",
            " 29%|██▉       | 94/320 [00:00<00:02, 101.13it/s]\u001b[A\n",
            " 33%|███▎      | 105/320 [00:01<00:02, 101.02it/s]\u001b[A\n",
            " 36%|███▋      | 116/320 [00:01<00:02, 100.94it/s]\u001b[A\n",
            " 39%|███▉      | 126/320 [00:01<00:01, 98.42it/s] \u001b[A\n",
            " 42%|████▎     | 136/320 [00:01<00:01, 98.49it/s]\u001b[A\n",
            " 46%|████▌     | 147/320 [00:01<00:01, 99.37it/s]\u001b[A\n",
            " 49%|████▉     | 158/320 [00:01<00:01, 100.79it/s]\u001b[A\n",
            " 53%|█████▎    | 169/320 [00:01<00:01, 100.43it/s]\u001b[A\n",
            " 56%|█████▋    | 180/320 [00:01<00:01, 100.22it/s]\u001b[A\n",
            " 60%|█████▉    | 191/320 [00:01<00:01, 98.24it/s] \u001b[A\n",
            " 63%|██████▎   | 202/320 [00:02<00:01, 100.59it/s]\u001b[A\n",
            " 67%|██████▋   | 213/320 [00:02<00:01, 99.43it/s] \u001b[A\n",
            " 70%|██████▉   | 223/320 [00:02<00:00, 99.27it/s]\u001b[A\n",
            " 73%|███████▎  | 234/320 [00:02<00:00, 99.70it/s]\u001b[A\n",
            " 76%|███████▋  | 244/320 [00:02<00:00, 97.23it/s]\u001b[A\n",
            " 79%|███████▉  | 254/320 [00:02<00:00, 95.37it/s]\u001b[A\n",
            " 82%|████████▎ | 264/320 [00:02<00:00, 96.25it/s]\u001b[A\n",
            " 86%|████████▌ | 274/320 [00:02<00:00, 96.69it/s]\u001b[A\n",
            " 89%|████████▉ | 284/320 [00:02<00:00, 96.40it/s]\u001b[A\n",
            " 92%|█████████▏| 294/320 [00:02<00:00, 96.87it/s]\u001b[A\n",
            " 95%|█████████▌| 304/320 [00:03<00:00, 96.88it/s]\u001b[A\n",
            "100%|██████████| 320/320 [00:03<00:00, 98.49it/s]\n"
          ],
          "name": "stderr"
        },
        {
          "output_type": "stream",
          "text": [
            "Dataset verified! \n",
            "Epoch 1/30\n"
          ],
          "name": "stdout"
        },
        {
          "output_type": "error",
          "ename": "ResourceExhaustedError",
          "evalue": "ignored",
          "traceback": [
            "\u001b[0;31m---------------------------------------------------------------------------\u001b[0m",
            "\u001b[0;31mResourceExhaustedError\u001b[0m                    Traceback (most recent call last)",
            "\u001b[0;32m<ipython-input-53-83b735eaf3c4>\u001b[0m in \u001b[0;36m<module>\u001b[0;34m()\u001b[0m\n\u001b[1;32m     18\u001b[0m \u001b[0;31m#m7=train_model(DATA_PATH,model_name='resnet50_segnet',epochs=100,batch_size=8,optimizer_name='adadelta',optimizer_lr=0.01,optimizer_mom=0.9,save_name='resnet50_segnet_red_ADAM_noaug_8_2batch_100epoch')\u001b[0m\u001b[0;34m\u001b[0m\u001b[0;34m\u001b[0m\u001b[0;34m\u001b[0m\u001b[0m\n\u001b[1;32m     19\u001b[0m \u001b[0;31m#m8=train_model(DATA_PATH,model_name='resnet50_segnet',epochs=100,batch_size=8,optimizer_name='adadelta',optimizer_lr=0.01,optimizer_mom=0.9,save_name='resnet50_segnet_red_ADAM_noaug_8_2batch_100epoch')\u001b[0m\u001b[0;34m\u001b[0m\u001b[0;34m\u001b[0m\u001b[0;34m\u001b[0m\u001b[0m\n\u001b[0;32m---> 20\u001b[0;31m \u001b[0mm9\u001b[0m\u001b[0;34m=\u001b[0m\u001b[0mtrain_model\u001b[0m\u001b[0;34m(\u001b[0m\u001b[0mDATA_PATH\u001b[0m\u001b[0;34m,\u001b[0m\u001b[0mmodel_name\u001b[0m\u001b[0;34m=\u001b[0m\u001b[0;34m'fcn_8'\u001b[0m\u001b[0;34m,\u001b[0m\u001b[0mepochs\u001b[0m\u001b[0;34m=\u001b[0m\u001b[0;36m30\u001b[0m\u001b[0;34m,\u001b[0m\u001b[0mbatch_size\u001b[0m\u001b[0;34m=\u001b[0m\u001b[0;36m8\u001b[0m\u001b[0;34m,\u001b[0m\u001b[0moptimizer_name\u001b[0m\u001b[0;34m=\u001b[0m\u001b[0;34m'adadelta'\u001b[0m\u001b[0;34m,\u001b[0m\u001b[0moptimizer_lr\u001b[0m\u001b[0;34m=\u001b[0m\u001b[0;36m0.01\u001b[0m\u001b[0;34m,\u001b[0m\u001b[0moptimizer_mom\u001b[0m\u001b[0;34m=\u001b[0m\u001b[0;36m0.9\u001b[0m\u001b[0;34m,\u001b[0m\u001b[0msave_name\u001b[0m\u001b[0;34m=\u001b[0m\u001b[0;34m'fcn_8_red_adadelta_noaugbatch_30epoch'\u001b[0m\u001b[0;34m)\u001b[0m\u001b[0;34m\u001b[0m\u001b[0;34m\u001b[0m\u001b[0m\n\u001b[0m\u001b[1;32m     21\u001b[0m \u001b[0;34m\u001b[0m\u001b[0m\n\u001b[1;32m     22\u001b[0m \u001b[0;34m\u001b[0m\u001b[0m\n",
            "\u001b[0;32m<ipython-input-49-ddc3aa2d89c6>\u001b[0m in \u001b[0;36mtrain_model\u001b[0;34m(DATA_PATH, model_name, epochs, batch_size, optimizer_name, optimizer_lr, optimizer_mom, save_name)\u001b[0m\n\u001b[1;32m     41\u001b[0m     \u001b[0mval_steps_per_epoch\u001b[0m\u001b[0;34m=\u001b[0m\u001b[0;36m3\u001b[0m\u001b[0;34m,\u001b[0m\u001b[0;34m\u001b[0m\u001b[0;34m\u001b[0m\u001b[0m\n\u001b[1;32m     42\u001b[0m     \u001b[0mgen_use_multiprocessing\u001b[0m\u001b[0;34m=\u001b[0m\u001b[0;32mTrue\u001b[0m\u001b[0;34m,\u001b[0m\u001b[0;34m\u001b[0m\u001b[0;34m\u001b[0m\u001b[0m\n\u001b[0;32m---> 43\u001b[0;31m     \u001b[0moptimizer_name\u001b[0m\u001b[0;34m=\u001b[0m\u001b[0mopt\u001b[0m\u001b[0;34m\u001b[0m\u001b[0;34m\u001b[0m\u001b[0m\n\u001b[0m\u001b[1;32m     44\u001b[0m   )\n\u001b[1;32m     45\u001b[0m   \u001b[0mend_train_time\u001b[0m\u001b[0;34m=\u001b[0m\u001b[0mtime\u001b[0m\u001b[0;34m.\u001b[0m\u001b[0mtime\u001b[0m\u001b[0;34m(\u001b[0m\u001b[0;34m)\u001b[0m\u001b[0;34m\u001b[0m\u001b[0;34m\u001b[0m\u001b[0m\n",
            "\u001b[0;32m/usr/local/lib/python3.6/dist-packages/keras_segmentation/train.py\u001b[0m in \u001b[0;36mtrain\u001b[0;34m(model, train_images, train_annotations, input_height, input_width, n_classes, verify_dataset, checkpoints_path, epochs, batch_size, validate, val_images, val_annotations, val_batch_size, auto_resume_checkpoint, load_weights, steps_per_epoch, val_steps_per_epoch, gen_use_multiprocessing, ignore_zero_class, optimizer_name, do_augment, augmentation_name)\u001b[0m\n\u001b[1;32m    162\u001b[0m                             \u001b[0mvalidation_steps\u001b[0m\u001b[0;34m=\u001b[0m\u001b[0mval_steps_per_epoch\u001b[0m\u001b[0;34m,\u001b[0m\u001b[0;34m\u001b[0m\u001b[0;34m\u001b[0m\u001b[0m\n\u001b[1;32m    163\u001b[0m                             \u001b[0mepochs\u001b[0m\u001b[0;34m=\u001b[0m\u001b[0mepochs\u001b[0m\u001b[0;34m,\u001b[0m \u001b[0mcallbacks\u001b[0m\u001b[0;34m=\u001b[0m\u001b[0mcallbacks\u001b[0m\u001b[0;34m,\u001b[0m\u001b[0;34m\u001b[0m\u001b[0;34m\u001b[0m\u001b[0m\n\u001b[0;32m--> 164\u001b[0;31m                             use_multiprocessing=gen_use_multiprocessing)\n\u001b[0m",
            "\u001b[0;32m/usr/local/lib/python3.6/dist-packages/keras/legacy/interfaces.py\u001b[0m in \u001b[0;36mwrapper\u001b[0;34m(*args, **kwargs)\u001b[0m\n\u001b[1;32m     89\u001b[0m                 warnings.warn('Update your `' + object_name + '` call to the ' +\n\u001b[1;32m     90\u001b[0m                               'Keras 2 API: ' + signature, stacklevel=2)\n\u001b[0;32m---> 91\u001b[0;31m             \u001b[0;32mreturn\u001b[0m \u001b[0mfunc\u001b[0m\u001b[0;34m(\u001b[0m\u001b[0;34m*\u001b[0m\u001b[0margs\u001b[0m\u001b[0;34m,\u001b[0m \u001b[0;34m**\u001b[0m\u001b[0mkwargs\u001b[0m\u001b[0;34m)\u001b[0m\u001b[0;34m\u001b[0m\u001b[0;34m\u001b[0m\u001b[0m\n\u001b[0m\u001b[1;32m     92\u001b[0m         \u001b[0mwrapper\u001b[0m\u001b[0;34m.\u001b[0m\u001b[0m_original_function\u001b[0m \u001b[0;34m=\u001b[0m \u001b[0mfunc\u001b[0m\u001b[0;34m\u001b[0m\u001b[0;34m\u001b[0m\u001b[0m\n\u001b[1;32m     93\u001b[0m         \u001b[0;32mreturn\u001b[0m \u001b[0mwrapper\u001b[0m\u001b[0;34m\u001b[0m\u001b[0;34m\u001b[0m\u001b[0m\n",
            "\u001b[0;32m/usr/local/lib/python3.6/dist-packages/keras/engine/training.py\u001b[0m in \u001b[0;36mfit_generator\u001b[0;34m(self, generator, steps_per_epoch, epochs, verbose, callbacks, validation_data, validation_steps, validation_freq, class_weight, max_queue_size, workers, use_multiprocessing, shuffle, initial_epoch)\u001b[0m\n\u001b[1;32m   1730\u001b[0m             \u001b[0muse_multiprocessing\u001b[0m\u001b[0;34m=\u001b[0m\u001b[0muse_multiprocessing\u001b[0m\u001b[0;34m,\u001b[0m\u001b[0;34m\u001b[0m\u001b[0;34m\u001b[0m\u001b[0m\n\u001b[1;32m   1731\u001b[0m             \u001b[0mshuffle\u001b[0m\u001b[0;34m=\u001b[0m\u001b[0mshuffle\u001b[0m\u001b[0;34m,\u001b[0m\u001b[0;34m\u001b[0m\u001b[0;34m\u001b[0m\u001b[0m\n\u001b[0;32m-> 1732\u001b[0;31m             initial_epoch=initial_epoch)\n\u001b[0m\u001b[1;32m   1733\u001b[0m \u001b[0;34m\u001b[0m\u001b[0m\n\u001b[1;32m   1734\u001b[0m     \u001b[0;34m@\u001b[0m\u001b[0minterfaces\u001b[0m\u001b[0;34m.\u001b[0m\u001b[0mlegacy_generator_methods_support\u001b[0m\u001b[0;34m\u001b[0m\u001b[0;34m\u001b[0m\u001b[0m\n",
            "\u001b[0;32m/usr/local/lib/python3.6/dist-packages/keras/engine/training_generator.py\u001b[0m in \u001b[0;36mfit_generator\u001b[0;34m(model, generator, steps_per_epoch, epochs, verbose, callbacks, validation_data, validation_steps, validation_freq, class_weight, max_queue_size, workers, use_multiprocessing, shuffle, initial_epoch)\u001b[0m\n\u001b[1;32m    218\u001b[0m                                             \u001b[0msample_weight\u001b[0m\u001b[0;34m=\u001b[0m\u001b[0msample_weight\u001b[0m\u001b[0;34m,\u001b[0m\u001b[0;34m\u001b[0m\u001b[0;34m\u001b[0m\u001b[0m\n\u001b[1;32m    219\u001b[0m                                             \u001b[0mclass_weight\u001b[0m\u001b[0;34m=\u001b[0m\u001b[0mclass_weight\u001b[0m\u001b[0;34m,\u001b[0m\u001b[0;34m\u001b[0m\u001b[0;34m\u001b[0m\u001b[0m\n\u001b[0;32m--> 220\u001b[0;31m                                             reset_metrics=False)\n\u001b[0m\u001b[1;32m    221\u001b[0m \u001b[0;34m\u001b[0m\u001b[0m\n\u001b[1;32m    222\u001b[0m                 \u001b[0mouts\u001b[0m \u001b[0;34m=\u001b[0m \u001b[0mto_list\u001b[0m\u001b[0;34m(\u001b[0m\u001b[0mouts\u001b[0m\u001b[0;34m)\u001b[0m\u001b[0;34m\u001b[0m\u001b[0;34m\u001b[0m\u001b[0m\n",
            "\u001b[0;32m/usr/local/lib/python3.6/dist-packages/keras/engine/training.py\u001b[0m in \u001b[0;36mtrain_on_batch\u001b[0;34m(self, x, y, sample_weight, class_weight, reset_metrics)\u001b[0m\n\u001b[1;32m   1512\u001b[0m             \u001b[0mins\u001b[0m \u001b[0;34m=\u001b[0m \u001b[0mx\u001b[0m \u001b[0;34m+\u001b[0m \u001b[0my\u001b[0m \u001b[0;34m+\u001b[0m \u001b[0msample_weights\u001b[0m\u001b[0;34m\u001b[0m\u001b[0;34m\u001b[0m\u001b[0m\n\u001b[1;32m   1513\u001b[0m         \u001b[0mself\u001b[0m\u001b[0;34m.\u001b[0m\u001b[0m_make_train_function\u001b[0m\u001b[0;34m(\u001b[0m\u001b[0;34m)\u001b[0m\u001b[0;34m\u001b[0m\u001b[0;34m\u001b[0m\u001b[0m\n\u001b[0;32m-> 1514\u001b[0;31m         \u001b[0moutputs\u001b[0m \u001b[0;34m=\u001b[0m \u001b[0mself\u001b[0m\u001b[0;34m.\u001b[0m\u001b[0mtrain_function\u001b[0m\u001b[0;34m(\u001b[0m\u001b[0mins\u001b[0m\u001b[0;34m)\u001b[0m\u001b[0;34m\u001b[0m\u001b[0;34m\u001b[0m\u001b[0m\n\u001b[0m\u001b[1;32m   1515\u001b[0m \u001b[0;34m\u001b[0m\u001b[0m\n\u001b[1;32m   1516\u001b[0m         \u001b[0;32mif\u001b[0m \u001b[0mreset_metrics\u001b[0m\u001b[0;34m:\u001b[0m\u001b[0;34m\u001b[0m\u001b[0;34m\u001b[0m\u001b[0m\n",
            "\u001b[0;32m/usr/local/lib/python3.6/dist-packages/tensorflow/python/keras/backend.py\u001b[0m in \u001b[0;36m__call__\u001b[0;34m(self, inputs)\u001b[0m\n\u001b[1;32m   3790\u001b[0m         \u001b[0mvalue\u001b[0m \u001b[0;34m=\u001b[0m \u001b[0mmath_ops\u001b[0m\u001b[0;34m.\u001b[0m\u001b[0mcast\u001b[0m\u001b[0;34m(\u001b[0m\u001b[0mvalue\u001b[0m\u001b[0;34m,\u001b[0m \u001b[0mtensor\u001b[0m\u001b[0;34m.\u001b[0m\u001b[0mdtype\u001b[0m\u001b[0;34m)\u001b[0m\u001b[0;34m\u001b[0m\u001b[0;34m\u001b[0m\u001b[0m\n\u001b[1;32m   3791\u001b[0m       \u001b[0mconverted_inputs\u001b[0m\u001b[0;34m.\u001b[0m\u001b[0mappend\u001b[0m\u001b[0;34m(\u001b[0m\u001b[0mvalue\u001b[0m\u001b[0;34m)\u001b[0m\u001b[0;34m\u001b[0m\u001b[0;34m\u001b[0m\u001b[0m\n\u001b[0;32m-> 3792\u001b[0;31m     \u001b[0moutputs\u001b[0m \u001b[0;34m=\u001b[0m \u001b[0mself\u001b[0m\u001b[0;34m.\u001b[0m\u001b[0m_graph_fn\u001b[0m\u001b[0;34m(\u001b[0m\u001b[0;34m*\u001b[0m\u001b[0mconverted_inputs\u001b[0m\u001b[0;34m)\u001b[0m\u001b[0;34m\u001b[0m\u001b[0;34m\u001b[0m\u001b[0m\n\u001b[0m\u001b[1;32m   3793\u001b[0m \u001b[0;34m\u001b[0m\u001b[0m\n\u001b[1;32m   3794\u001b[0m     \u001b[0;31m# EagerTensor.numpy() will often make a copy to ensure memory safety.\u001b[0m\u001b[0;34m\u001b[0m\u001b[0;34m\u001b[0m\u001b[0;34m\u001b[0m\u001b[0m\n",
            "\u001b[0;32m/usr/local/lib/python3.6/dist-packages/tensorflow/python/eager/function.py\u001b[0m in \u001b[0;36m__call__\u001b[0;34m(self, *args, **kwargs)\u001b[0m\n\u001b[1;32m   1603\u001b[0m       \u001b[0mTypeError\u001b[0m\u001b[0;34m:\u001b[0m \u001b[0mFor\u001b[0m \u001b[0minvalid\u001b[0m \u001b[0mpositional\u001b[0m\u001b[0;34m/\u001b[0m\u001b[0mkeyword\u001b[0m \u001b[0margument\u001b[0m \u001b[0mcombinations\u001b[0m\u001b[0;34m.\u001b[0m\u001b[0;34m\u001b[0m\u001b[0;34m\u001b[0m\u001b[0m\n\u001b[1;32m   1604\u001b[0m     \"\"\"\n\u001b[0;32m-> 1605\u001b[0;31m     \u001b[0;32mreturn\u001b[0m \u001b[0mself\u001b[0m\u001b[0;34m.\u001b[0m\u001b[0m_call_impl\u001b[0m\u001b[0;34m(\u001b[0m\u001b[0margs\u001b[0m\u001b[0;34m,\u001b[0m \u001b[0mkwargs\u001b[0m\u001b[0;34m)\u001b[0m\u001b[0;34m\u001b[0m\u001b[0;34m\u001b[0m\u001b[0m\n\u001b[0m\u001b[1;32m   1606\u001b[0m \u001b[0;34m\u001b[0m\u001b[0m\n\u001b[1;32m   1607\u001b[0m   \u001b[0;32mdef\u001b[0m \u001b[0m_call_impl\u001b[0m\u001b[0;34m(\u001b[0m\u001b[0mself\u001b[0m\u001b[0;34m,\u001b[0m \u001b[0margs\u001b[0m\u001b[0;34m,\u001b[0m \u001b[0mkwargs\u001b[0m\u001b[0;34m,\u001b[0m \u001b[0mcancellation_manager\u001b[0m\u001b[0;34m=\u001b[0m\u001b[0;32mNone\u001b[0m\u001b[0;34m)\u001b[0m\u001b[0;34m:\u001b[0m\u001b[0;34m\u001b[0m\u001b[0;34m\u001b[0m\u001b[0m\n",
            "\u001b[0;32m/usr/local/lib/python3.6/dist-packages/tensorflow/python/eager/function.py\u001b[0m in \u001b[0;36m_call_impl\u001b[0;34m(self, args, kwargs, cancellation_manager)\u001b[0m\n\u001b[1;32m   1643\u001b[0m       raise TypeError(\"Keyword arguments {} unknown. Expected {}.\".format(\n\u001b[1;32m   1644\u001b[0m           list(kwargs.keys()), list(self._arg_keywords)))\n\u001b[0;32m-> 1645\u001b[0;31m     \u001b[0;32mreturn\u001b[0m \u001b[0mself\u001b[0m\u001b[0;34m.\u001b[0m\u001b[0m_call_flat\u001b[0m\u001b[0;34m(\u001b[0m\u001b[0margs\u001b[0m\u001b[0;34m,\u001b[0m \u001b[0mself\u001b[0m\u001b[0;34m.\u001b[0m\u001b[0mcaptured_inputs\u001b[0m\u001b[0;34m,\u001b[0m \u001b[0mcancellation_manager\u001b[0m\u001b[0;34m)\u001b[0m\u001b[0;34m\u001b[0m\u001b[0;34m\u001b[0m\u001b[0m\n\u001b[0m\u001b[1;32m   1646\u001b[0m \u001b[0;34m\u001b[0m\u001b[0m\n\u001b[1;32m   1647\u001b[0m   \u001b[0;32mdef\u001b[0m \u001b[0m_filtered_call\u001b[0m\u001b[0;34m(\u001b[0m\u001b[0mself\u001b[0m\u001b[0;34m,\u001b[0m \u001b[0margs\u001b[0m\u001b[0;34m,\u001b[0m \u001b[0mkwargs\u001b[0m\u001b[0;34m)\u001b[0m\u001b[0;34m:\u001b[0m\u001b[0;34m\u001b[0m\u001b[0;34m\u001b[0m\u001b[0m\n",
            "\u001b[0;32m/usr/local/lib/python3.6/dist-packages/tensorflow/python/eager/function.py\u001b[0m in \u001b[0;36m_call_flat\u001b[0;34m(self, args, captured_inputs, cancellation_manager)\u001b[0m\n\u001b[1;32m   1744\u001b[0m       \u001b[0;31m# No tape is watching; skip to running the function.\u001b[0m\u001b[0;34m\u001b[0m\u001b[0;34m\u001b[0m\u001b[0;34m\u001b[0m\u001b[0m\n\u001b[1;32m   1745\u001b[0m       return self._build_call_outputs(self._inference_function.call(\n\u001b[0;32m-> 1746\u001b[0;31m           ctx, args, cancellation_manager=cancellation_manager))\n\u001b[0m\u001b[1;32m   1747\u001b[0m     forward_backward = self._select_forward_and_backward_functions(\n\u001b[1;32m   1748\u001b[0m         \u001b[0margs\u001b[0m\u001b[0;34m,\u001b[0m\u001b[0;34m\u001b[0m\u001b[0;34m\u001b[0m\u001b[0m\n",
            "\u001b[0;32m/usr/local/lib/python3.6/dist-packages/tensorflow/python/eager/function.py\u001b[0m in \u001b[0;36mcall\u001b[0;34m(self, ctx, args, cancellation_manager)\u001b[0m\n\u001b[1;32m    596\u001b[0m               \u001b[0minputs\u001b[0m\u001b[0;34m=\u001b[0m\u001b[0margs\u001b[0m\u001b[0;34m,\u001b[0m\u001b[0;34m\u001b[0m\u001b[0;34m\u001b[0m\u001b[0m\n\u001b[1;32m    597\u001b[0m               \u001b[0mattrs\u001b[0m\u001b[0;34m=\u001b[0m\u001b[0mattrs\u001b[0m\u001b[0;34m,\u001b[0m\u001b[0;34m\u001b[0m\u001b[0;34m\u001b[0m\u001b[0m\n\u001b[0;32m--> 598\u001b[0;31m               ctx=ctx)\n\u001b[0m\u001b[1;32m    599\u001b[0m         \u001b[0;32melse\u001b[0m\u001b[0;34m:\u001b[0m\u001b[0;34m\u001b[0m\u001b[0;34m\u001b[0m\u001b[0m\n\u001b[1;32m    600\u001b[0m           outputs = execute.execute_with_cancellation(\n",
            "\u001b[0;32m/usr/local/lib/python3.6/dist-packages/tensorflow/python/eager/execute.py\u001b[0m in \u001b[0;36mquick_execute\u001b[0;34m(op_name, num_outputs, inputs, attrs, ctx, name)\u001b[0m\n\u001b[1;32m     58\u001b[0m     \u001b[0mctx\u001b[0m\u001b[0;34m.\u001b[0m\u001b[0mensure_initialized\u001b[0m\u001b[0;34m(\u001b[0m\u001b[0;34m)\u001b[0m\u001b[0;34m\u001b[0m\u001b[0;34m\u001b[0m\u001b[0m\n\u001b[1;32m     59\u001b[0m     tensors = pywrap_tfe.TFE_Py_Execute(ctx._handle, device_name, op_name,\n\u001b[0;32m---> 60\u001b[0;31m                                         inputs, attrs, num_outputs)\n\u001b[0m\u001b[1;32m     61\u001b[0m   \u001b[0;32mexcept\u001b[0m \u001b[0mcore\u001b[0m\u001b[0;34m.\u001b[0m\u001b[0m_NotOkStatusException\u001b[0m \u001b[0;32mas\u001b[0m \u001b[0me\u001b[0m\u001b[0;34m:\u001b[0m\u001b[0;34m\u001b[0m\u001b[0;34m\u001b[0m\u001b[0m\n\u001b[1;32m     62\u001b[0m     \u001b[0;32mif\u001b[0m \u001b[0mname\u001b[0m \u001b[0;32mis\u001b[0m \u001b[0;32mnot\u001b[0m \u001b[0;32mNone\u001b[0m\u001b[0;34m:\u001b[0m\u001b[0;34m\u001b[0m\u001b[0;34m\u001b[0m\u001b[0m\n",
            "\u001b[0;31mResourceExhaustedError\u001b[0m:  OOM when allocating tensor with shape[8,64,416,416] and type float on /job:localhost/replica:0/task:0/device:GPU:0 by allocator GPU_0_bfc\n\t [[{{node gradients_17/SquaredDifference_577_grad/mul_1-0-TransposeNHWCToNCHW-LayoutOptimizer}}]]\nHint: If you want to see a list of allocated tensors when OOM happens, add report_tensor_allocations_upon_oom to RunOptions for current allocation info.\n [Op:__inference_keras_scratch_graph_460752]\n\nFunction call stack:\nkeras_scratch_graph\n"
          ]
        },
        {
          "output_type": "display_data",
          "data": {
            "image/png": "[encoded data removed]",
            "text/plain": [
              "<Figure size 432x288 with 1 Axes>"
            ]
          },
          "metadata": {
            "tags": [],
            "needs_background": "light"
          }
        }
      ]
    },
    {
      "cell_type": "code",
      "metadata": {
        "id": "isha8hiaJ4gC",
        "colab": {
          "base_uri": "https://localhost:8080/",
          "height": 1000
        },
        "outputId": "c85a5242-6197-4cc0-ab47-fd724ef5ec99"
      },
      "source": [
        "pred_and_show(m6,image='/test_frames3/111.png')"
      ],
      "execution_count": null,
      "outputs": [
        {
          "output_type": "execute_result",
          "data": {
            "text/plain": [
              "array([[[255, 255, 255],\n",
              "        [255, 255, 255],\n",
              "        [255, 255, 255],\n",
              "        ...,\n",
              "        [255, 255, 255],\n",
              "        [255, 255, 255],\n",
              "        [255, 255, 255]],\n",
              "\n",
              "       [[255, 255, 255],\n",
              "        [255, 255, 255],\n",
              "        [255, 255, 255],\n",
              "        ...,\n",
              "        [255, 255, 255],\n",
              "        [255, 255, 255],\n",
              "        [255, 255, 255]],\n",
              "\n",
              "       [[255, 255, 255],\n",
              "        [255, 255, 255],\n",
              "        [200, 130,  50],\n",
              "        ...,\n",
              "        [255, 255, 255],\n",
              "        [255, 255, 255],\n",
              "        [255, 255, 255]],\n",
              "\n",
              "       ...,\n",
              "\n",
              "       [[255, 255, 255],\n",
              "        [255, 255, 255],\n",
              "        [255, 255, 255],\n",
              "        ...,\n",
              "        [255, 255, 255],\n",
              "        [255, 255, 255],\n",
              "        [255, 255, 255]],\n",
              "\n",
              "       [[255, 255, 255],\n",
              "        [255, 255, 255],\n",
              "        [255, 255, 255],\n",
              "        ...,\n",
              "        [255, 255, 255],\n",
              "        [255, 255, 255],\n",
              "        [255, 255, 255]],\n",
              "\n",
              "       [[255, 255, 255],\n",
              "        [255, 255, 255],\n",
              "        [255, 255, 255],\n",
              "        ...,\n",
              "        [255, 255, 255],\n",
              "        [255, 255, 255],\n",
              "        [255, 255, 255]]], dtype=uint8)"
            ]
          },
          "metadata": {
            "tags": []
          },
          "execution_count": 44
        },
        {
          "output_type": "display_data",
          "data": {
            "image/png": "[encoded data removed]",
            "text/plain": [
              "<Figure size 432x288 with 1 Axes>"
            ]
          },
          "metadata": {
            "tags": [],
            "needs_background": "light"
          }
        }
      ]
    },
    {
      "cell_type": "code",
      "metadata": {
        "id": "96ql8KmsjCFe"
      },
      "source": [
        "#main()"
      ],
      "execution_count": null,
      "outputs": []
    }
  ]
}